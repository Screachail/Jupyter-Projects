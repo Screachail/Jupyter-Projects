{
 "cells": [
  {
   "cell_type": "markdown",
   "id": "077b3c41-5bdb-4859-9839-23caecfd1970",
   "metadata": {},
   "source": [
    "Make sure you have the necessary packages installed, including ipython-sql for the %sql magic."
   ]
  },
  {
   "cell_type": "code",
   "execution_count": 2,
   "id": "8d87b667-d71d-4a66-89f5-70f78d85cf43",
   "metadata": {},
   "outputs": [
    {
     "name": "stdout",
     "output_type": "stream",
     "text": [
      "Collecting ipython-sql\n",
      "  Downloading ipython_sql-0.5.0-py3-none-any.whl.metadata (17 kB)\n",
      "Requirement already satisfied: sqlalchemy in c:\\users\\kacu1\\anaconda3\\lib\\site-packages (2.0.30)\n",
      "Collecting prettytable (from ipython-sql)\n",
      "  Downloading prettytable-3.11.0-py3-none-any.whl.metadata (30 kB)\n",
      "Requirement already satisfied: ipython in c:\\users\\kacu1\\anaconda3\\lib\\site-packages (from ipython-sql) (8.25.0)\n",
      "Collecting sqlparse (from ipython-sql)\n",
      "  Downloading sqlparse-0.5.1-py3-none-any.whl.metadata (3.9 kB)\n",
      "Requirement already satisfied: six in c:\\users\\kacu1\\anaconda3\\lib\\site-packages (from ipython-sql) (1.16.0)\n",
      "Requirement already satisfied: ipython-genutils in c:\\users\\kacu1\\anaconda3\\lib\\site-packages (from ipython-sql) (0.2.0)\n",
      "Requirement already satisfied: typing-extensions>=4.6.0 in c:\\users\\kacu1\\anaconda3\\lib\\site-packages (from sqlalchemy) (4.11.0)\n",
      "Requirement already satisfied: greenlet!=0.4.17 in c:\\users\\kacu1\\anaconda3\\lib\\site-packages (from sqlalchemy) (3.0.1)\n",
      "Requirement already satisfied: decorator in c:\\users\\kacu1\\anaconda3\\lib\\site-packages (from ipython->ipython-sql) (5.1.1)\n",
      "Requirement already satisfied: jedi>=0.16 in c:\\users\\kacu1\\anaconda3\\lib\\site-packages (from ipython->ipython-sql) (0.18.1)\n",
      "Requirement already satisfied: matplotlib-inline in c:\\users\\kacu1\\anaconda3\\lib\\site-packages (from ipython->ipython-sql) (0.1.6)\n",
      "Requirement already satisfied: prompt-toolkit<3.1.0,>=3.0.41 in c:\\users\\kacu1\\anaconda3\\lib\\site-packages (from ipython->ipython-sql) (3.0.43)\n",
      "Requirement already satisfied: pygments>=2.4.0 in c:\\users\\kacu1\\anaconda3\\lib\\site-packages (from ipython->ipython-sql) (2.15.1)\n",
      "Requirement already satisfied: stack-data in c:\\users\\kacu1\\anaconda3\\lib\\site-packages (from ipython->ipython-sql) (0.2.0)\n",
      "Requirement already satisfied: traitlets>=5.13.0 in c:\\users\\kacu1\\anaconda3\\lib\\site-packages (from ipython->ipython-sql) (5.14.3)\n",
      "Requirement already satisfied: colorama in c:\\users\\kacu1\\anaconda3\\lib\\site-packages (from ipython->ipython-sql) (0.4.6)\n",
      "Requirement already satisfied: wcwidth in c:\\users\\kacu1\\anaconda3\\lib\\site-packages (from prettytable->ipython-sql) (0.2.5)\n",
      "Requirement already satisfied: parso<0.9.0,>=0.8.0 in c:\\users\\kacu1\\anaconda3\\lib\\site-packages (from jedi>=0.16->ipython->ipython-sql) (0.8.3)\n",
      "Requirement already satisfied: executing in c:\\users\\kacu1\\anaconda3\\lib\\site-packages (from stack-data->ipython->ipython-sql) (0.8.3)\n",
      "Requirement already satisfied: asttokens in c:\\users\\kacu1\\anaconda3\\lib\\site-packages (from stack-data->ipython->ipython-sql) (2.0.5)\n",
      "Requirement already satisfied: pure-eval in c:\\users\\kacu1\\anaconda3\\lib\\site-packages (from stack-data->ipython->ipython-sql) (0.2.2)\n",
      "Downloading ipython_sql-0.5.0-py3-none-any.whl (20 kB)\n",
      "Downloading prettytable-3.11.0-py3-none-any.whl (28 kB)\n",
      "Downloading sqlparse-0.5.1-py3-none-any.whl (44 kB)\n",
      "   ---------------------------------------- 0.0/44.2 kB ? eta -:--:--\n",
      "   ---------------------------------------- 44.2/44.2 kB 2.3 MB/s eta 0:00:00\n",
      "Installing collected packages: sqlparse, prettytable, ipython-sql\n",
      "Successfully installed ipython-sql-0.5.0 prettytable-3.11.0 sqlparse-0.5.1\n",
      "Note: you may need to restart the kernel to use updated packages.\n"
     ]
    }
   ],
   "source": [
    "pip install ipython-sql sqlalchemy"
   ]
  },
  {
   "cell_type": "markdown",
   "id": "d65437a5-436c-4d8f-b8df-fbab2528cfd7",
   "metadata": {},
   "source": [
    "# Step 1: Set Up the Environment"
   ]
  },
  {
   "cell_type": "markdown",
   "id": "e50697ef-3396-45b9-8810-b3541c825b84",
   "metadata": {},
   "source": [
    "Start by loading the %sql magic extension in your Jupyter Notebook and connecting to a SQLite database."
   ]
  },
  {
   "cell_type": "code",
   "execution_count": 7,
   "id": "5c513536-38ff-4175-b6cb-7474b3696dbb",
   "metadata": {},
   "outputs": [],
   "source": [
    "# Load the SQL extension\n",
    "%load_ext sql\n",
    "\n",
    "# Connect to SQLite database\n",
    "%sql sqlite:///example.db"
   ]
  },
  {
   "cell_type": "markdown",
   "id": "321f43c9-1f2e-43a1-a135-b80e4961d43a",
   "metadata": {},
   "source": [
    "# Step 2: Create Tables and Insert Data"
   ]
  },
  {
   "cell_type": "markdown",
   "id": "da7488df-2ead-4af0-8cb4-a74f37320a85",
   "metadata": {},
   "source": [
    "Create two tables: departments and employees, and insert some sample data."
   ]
  },
  {
   "cell_type": "code",
   "execution_count": 11,
   "id": "afe64e91-5c1a-4a3d-ba64-97a9ed351d3a",
   "metadata": {},
   "outputs": [
    {
     "name": "stdout",
     "output_type": "stream",
     "text": [
      " * sqlite:///example.db\n",
      "Done.\n",
      "Done.\n",
      "Done.\n",
      "Done.\n",
      "3 rows affected.\n",
      "5 rows affected.\n"
     ]
    },
    {
     "data": {
      "text/plain": [
       "[]"
      ]
     },
     "execution_count": 11,
     "metadata": {},
     "output_type": "execute_result"
    }
   ],
   "source": [
    "%%sql\n",
    "\n",
    "DROP TABLE IF EXISTS departments;\n",
    "DROP TABLE IF EXISTS employees;\n",
    "\n",
    "CREATE TABLE departments (\n",
    "    dept_id INTEGER PRIMARY KEY,\n",
    "    dept_name TEXT\n",
    ");\n",
    "\n",
    "CREATE TABLE employees (\n",
    "    emp_id INTEGER PRIMARY KEY,\n",
    "    emp_name TEXT,\n",
    "    age INTEGER,\n",
    "    salary INTEGER,\n",
    "    dept_id INTEGER,\n",
    "    FOREIGN KEY (dept_id) REFERENCES departments (dept_id)\n",
    ");\n",
    "\n",
    "-- Insert data into departments\n",
    "INSERT INTO departments (dept_id, dept_name) VALUES\n",
    "(1, 'Engineering'),\n",
    "(2, 'HR'),\n",
    "(3, 'Sales');\n",
    "\n",
    "-- Insert data into employees (with some rows not matching departments)\n",
    "INSERT INTO employees (emp_name, age, salary, dept_id) VALUES\n",
    "('Alice', 30, 50000, 1),\n",
    "('Bob', 28, 60000, 1),\n",
    "('Charlie', 35, 70000, 2),\n",
    "('David', 40, 80000, 3),\n",
    "('Eve', 38, 75000, NULL);  -- Employee without a department\n"
   ]
  },
  {
   "cell_type": "markdown",
   "id": "fe91acca-2589-43bd-9dc2-4298486703c1",
   "metadata": {},
   "source": [
    "# Step 3: Perform a LEFT JOIN"
   ]
  },
  {
   "cell_type": "markdown",
   "id": "fb2c4164-fa3b-4cd8-92e2-19556ab347f8",
   "metadata": {},
   "source": [
    "Use a LEFT JOIN to retrieve all employees, including those who do not belong to any department."
   ]
  },
  {
   "cell_type": "code",
   "execution_count": 15,
   "id": "cf5cf227-5466-4293-aa6f-dbf421bcbdfb",
   "metadata": {},
   "outputs": [
    {
     "name": "stdout",
     "output_type": "stream",
     "text": [
      " * sqlite:///example.db\n",
      "Done.\n"
     ]
    },
    {
     "data": {
      "text/html": [
       "<table>\n",
       "    <thead>\n",
       "        <tr>\n",
       "            <th>emp_name</th>\n",
       "            <th>age</th>\n",
       "            <th>salary</th>\n",
       "            <th>dept_name</th>\n",
       "        </tr>\n",
       "    </thead>\n",
       "    <tbody>\n",
       "        <tr>\n",
       "            <td>Alice</td>\n",
       "            <td>30</td>\n",
       "            <td>50000</td>\n",
       "            <td>Engineering</td>\n",
       "        </tr>\n",
       "        <tr>\n",
       "            <td>Bob</td>\n",
       "            <td>28</td>\n",
       "            <td>60000</td>\n",
       "            <td>Engineering</td>\n",
       "        </tr>\n",
       "        <tr>\n",
       "            <td>Charlie</td>\n",
       "            <td>35</td>\n",
       "            <td>70000</td>\n",
       "            <td>HR</td>\n",
       "        </tr>\n",
       "        <tr>\n",
       "            <td>David</td>\n",
       "            <td>40</td>\n",
       "            <td>80000</td>\n",
       "            <td>Sales</td>\n",
       "        </tr>\n",
       "        <tr>\n",
       "            <td>Eve</td>\n",
       "            <td>38</td>\n",
       "            <td>75000</td>\n",
       "            <td>None</td>\n",
       "        </tr>\n",
       "    </tbody>\n",
       "</table>"
      ],
      "text/plain": [
       "[('Alice', 30, 50000, 'Engineering'),\n",
       " ('Bob', 28, 60000, 'Engineering'),\n",
       " ('Charlie', 35, 70000, 'HR'),\n",
       " ('David', 40, 80000, 'Sales'),\n",
       " ('Eve', 38, 75000, None)]"
      ]
     },
     "execution_count": 15,
     "metadata": {},
     "output_type": "execute_result"
    }
   ],
   "source": [
    "%%sql\n",
    "\n",
    "SELECT emp_name, age, salary, dept_name\n",
    "FROM employees\n",
    "LEFT JOIN departments ON employees.dept_id = departments.dept_id;\n"
   ]
  },
  {
   "cell_type": "markdown",
   "id": "874c0997-01d1-45b6-81e8-9bdf25b5f5c3",
   "metadata": {},
   "source": [
    "# Step 4: ACID Properties"
   ]
  },
  {
   "cell_type": "markdown",
   "id": "ecfdc0f7-0d53-42f1-ad6c-a3df35ec4af8",
   "metadata": {},
   "source": [
    "Atomicity ensures that a transaction is fully completed or not executed at all."
   ]
  },
  {
   "cell_type": "code",
   "execution_count": 19,
   "id": "d16b8eb3-d683-4244-b9ba-a4a9f52c5406",
   "metadata": {},
   "outputs": [
    {
     "name": "stdout",
     "output_type": "stream",
     "text": [
      " * sqlite:///example.db\n",
      "Done.\n",
      "1 rows affected.\n",
      "(sqlite3.OperationalError) cannot commit - no transaction is active\n",
      "[SQL: COMMIT;  -- This won't commit due to the failure]\n",
      "(Background on this error at: https://sqlalche.me/e/20/e3q8)\n"
     ]
    }
   ],
   "source": [
    "%%sql\n",
    "\n",
    "BEGIN;\n",
    "\n",
    "-- This block will fail and rollback\n",
    "INSERT INTO employees (emp_name, age, salary, dept_id) VALUES\n",
    "('Frank', 45, 85000, 4);  -- Invalid dept_id\n",
    "\n",
    "COMMIT;  -- This won't commit due to the failure\n"
   ]
  },
  {
   "cell_type": "markdown",
   "id": "e645ab1a-0173-4933-9eb2-6b7b49fa8043",
   "metadata": {},
   "source": [
    "Since there is no department with dept_id = 4, the entire transaction fails and does not commit, preserving atomicity."
   ]
  },
  {
   "cell_type": "markdown",
   "id": "f4714cc0-9e31-4f34-9c8e-7bd7b679dc0c",
   "metadata": {},
   "source": [
    "Consistency ensures that a transaction only brings the database from one valid state to another."
   ]
  },
  {
   "cell_type": "code",
   "execution_count": 23,
   "id": "9fe42225-a516-4eb4-98bb-9b7deef40086",
   "metadata": {},
   "outputs": [
    {
     "name": "stdout",
     "output_type": "stream",
     "text": [
      " * sqlite:///example.db\n",
      "Done.\n",
      "1 rows affected.\n",
      "(sqlite3.OperationalError) cannot commit - no transaction is active\n",
      "[SQL: COMMIT;]\n",
      "(Background on this error at: https://sqlalche.me/e/20/e3q8)\n"
     ]
    }
   ],
   "source": [
    "%%sql\n",
    "\n",
    "-- Insert a valid employee to maintain database consistency\n",
    "BEGIN;\n",
    "\n",
    "INSERT INTO employees (emp_name, age, salary, dept_id) VALUES\n",
    "('Grace', 29, 65000, 2);  -- Valid dept_id\n",
    "\n",
    "COMMIT;\n"
   ]
  },
  {
   "cell_type": "markdown",
   "id": "81cb0b9f-e4b8-46bf-be1e-b08ae5774d18",
   "metadata": {},
   "source": [
    "This ensures that after the transaction, the database remains consistent with the business rules."
   ]
  },
  {
   "cell_type": "markdown",
   "id": "7bedc859-8cc9-43ed-a4e2-202eff415557",
   "metadata": {},
   "source": [
    "Isolation ensures that concurrently executed transactions do not interfere with each other."
   ]
  },
  {
   "cell_type": "code",
   "execution_count": 27,
   "id": "a66594ec-d813-45f6-81d0-c56eda597541",
   "metadata": {},
   "outputs": [
    {
     "name": "stdout",
     "output_type": "stream",
     "text": [
      " * sqlite:///example.db\n",
      "Done.\n",
      "Done.\n",
      "1 rows affected.\n",
      "(sqlite3.OperationalError) cannot commit - no transaction is active\n",
      "[SQL: COMMIT;]\n",
      "(Background on this error at: https://sqlalche.me/e/20/e3q8)\n"
     ]
    }
   ],
   "source": [
    "%%sql\n",
    "\n",
    "-- Start one transaction\n",
    "BEGIN;\n",
    "\n",
    "-- Check employees table before another transaction\n",
    "SELECT * FROM employees;\n",
    "\n",
    "-- Assume a concurrent transaction here (not fully demonstrable in SQLite without threading)\n",
    "\n",
    "-- Update the salary of 'Alice'\n",
    "UPDATE employees SET salary = 55000 WHERE emp_name = 'Alice';\n",
    "\n",
    "COMMIT;\n"
   ]
  },
  {
   "cell_type": "markdown",
   "id": "0ab26291-03a3-4981-a9fa-9ab539dd443e",
   "metadata": {},
   "source": [
    "In a more advanced database system, you would run this in isolation to ensure that no other transactions interfere with this update."
   ]
  },
  {
   "cell_type": "markdown",
   "id": "4d466622-8f75-4213-82aa-70a861c2aa4d",
   "metadata": {},
   "source": [
    "Durability ensures that once a transaction has been committed, it remains committed even in the case of a system failure."
   ]
  },
  {
   "cell_type": "markdown",
   "id": "2db6137d-9f4a-47d9-8057-461a2a59bea2",
   "metadata": {},
   "source": [
    "This is automatically handled by SQLite once a COMMIT is performed."
   ]
  },
  {
   "cell_type": "markdown",
   "id": "9a47e1bb-d671-41c4-8ac4-d96966361feb",
   "metadata": {},
   "source": [
    "# Step 5: Visualize the Result"
   ]
  },
  {
   "cell_type": "markdown",
   "id": "54c04c55-6c96-4469-b86f-ee0373b6bb4d",
   "metadata": {},
   "source": [
    "Finally, you can visualize the data with a jointplot after cleaning it."
   ]
  },
  {
   "cell_type": "code",
   "execution_count": 40,
   "id": "7023ff5c-4a47-4585-899c-a38a424e0ec2",
   "metadata": {},
   "outputs": [
    {
     "name": "stdout",
     "output_type": "stream",
     "text": [
      " * sqlite:///example.db\n",
      "Done.\n"
     ]
    },
    {
     "data": {
      "image/png": "[encoded data removed]",
      "text/plain": [
       "<Figure size 1000x600 with 1 Axes>"
      ]
     },
     "metadata": {},
     "output_type": "display_data"
    }
   ],
   "source": [
    "import pandas as pd\n",
    "import seaborn as sns\n",
    "import matplotlib.pyplot as plt\n",
    "\n",
    "# Load data into a pandas DataFrame using %sql magic\n",
    "df = %sql SELECT emp_name, age, salary, dept_name FROM employees LEFT JOIN departments ON employees.dept_id = departments.dept_id;\n",
    "\n",
    "# Convert the result to a DataFrame\n",
    "df = df.DataFrame()\n",
    "\n",
    "# Clean the data by dropping rows with missing values\n",
    "df = df.dropna()\n",
    "\n",
    "# Create a box plot to visualize the salary distribution across departments\n",
    "plt.figure(figsize=(10, 6))\n",
    "sns.boxplot(x='dept_name', y='salary', data=df)\n",
    "\n",
    "# Add titles and labels\n",
    "plt.title('Salary Distribution Across Departments')\n",
    "plt.xlabel('Department')\n",
    "plt.ylabel('Salary')\n",
    "\n",
    "# Show the plot\n",
    "plt.show()"
   ]
  },
  {
   "cell_type": "markdown",
   "id": "af2c31a4-014c-4481-8dcf-c18594ad629d",
   "metadata": {},
   "source": [
    "# Summary:"
   ]
  },
  {
   "cell_type": "markdown",
   "id": "6c2e8334-91cd-4d79-b07b-931ae46b16e1",
   "metadata": {},
   "source": [
    "Summary:\n",
    "SQL Database Interaction: We utilized the %sql magic in a Jupyter Notebook to connect to a SQLite database. We created and populated two tables: departments and employees, and used SQL queries to retrieve and manipulate data.\n",
    "\n",
    "Data Cleaning: After retrieving the data using a LEFT JOIN, we cleaned the data by removing rows with missing values. This ensured that our analysis was based on complete and accurate information.\n",
    "\n",
    "ACID Properties Demonstration: We demonstrated key aspects of ACID properties—Atomicity, Consistency, Isolation, and Durability—using SQL transactions. This helped to reinforce the importance of these principles in maintaining database integrity during operations.\n",
    "\n",
    "Visualization with Box Plot: Finally, we created a box plot to visualize the distribution of salaries across different departments. The box plot provided insights into the salary ranges within each department, highlighted median salaries, and identified any outliers. This type of visualization is useful for quickly understanding variations and patterns in the data.\n",
    "\n",
    "Overall, this project combined SQL and Python to effectively manage, clean, and visualize data, showcasing the power of integrating database queries with data science tools in a Jupyter Notebook environment."
   ]
  },
  {
   "cell_type": "code",
   "execution_count": null,
   "id": "5fd60cfa-bfdd-47aa-97a5-a26b1a70def6",
   "metadata": {},
   "outputs": [],
   "source": []
  }
 ],
 "metadata": {
  "kernelspec": {
   "display_name": "Python 3 (ipykernel)",
   "language": "python",
   "name": "python3"
  },
  "language_info": {
   "codemirror_mode": {
    "name": "ipython",
    "version": 3
   },
   "file_extension": ".py",
   "mimetype": "text/x-python",
   "name": "python",
   "nbconvert_exporter": "python",
   "pygments_lexer": "ipython3",
   "version": "3.12.4"
  }
 },
 "nbformat": 4,
 "nbformat_minor": 5
}
